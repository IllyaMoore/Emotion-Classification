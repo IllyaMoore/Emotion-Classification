{
 "cells": [
  {
   "cell_type": "code",
   "execution_count": 16,
   "id": "0209b837",
   "metadata": {},
   "outputs": [
    {
     "name": "stdout",
     "output_type": "stream",
     "text": [
      "Requirement already satisfied: sentencepiece in c:\\python312\\lib\\site-packages (0.2.0)\n"
     ]
    },
    {
     "name": "stderr",
     "output_type": "stream",
     "text": [
      "\n",
      "[notice] A new release of pip is available: 25.0.1 -> 25.2\n",
      "[notice] To update, run: C:\\Python312\\python.exe -m pip install --upgrade pip\n"
     ]
    }
   ],
   "source": [
    "!pip3 install sentencepiece "
   ]
  },
  {
   "cell_type": "code",
   "execution_count": 1,
   "id": "27a596b9",
   "metadata": {},
   "outputs": [],
   "source": [
    "import sentencepiece as spm"
   ]
  },
  {
   "cell_type": "code",
   "execution_count": 2,
   "id": "20ffa304",
   "metadata": {},
   "outputs": [
    {
     "name": "stderr",
     "output_type": "stream",
     "text": [
      "<>:1: SyntaxWarning: invalid escape sequence '\\E'\n",
      "<>:1: SyntaxWarning: invalid escape sequence '\\E'\n",
      "C:\\Users\\illya\\AppData\\Local\\Temp\\ipykernel_20624\\3666440681.py:1: SyntaxWarning: invalid escape sequence '\\E'\n",
      "  PATH = \"C:\\Emotion Classification\\data\\\\text.txt\"\n"
     ]
    }
   ],
   "source": [
    "PATH = \"C:\\Emotion Classification\\data\\\\text.txt\""
   ]
  },
  {
   "cell_type": "code",
   "execution_count": 6,
   "id": "ac86ce5a",
   "metadata": {},
   "outputs": [],
   "source": [
    "spm.SentencePieceTrainer.train(\n",
    "    input=PATH,\n",
    "    model_prefix='tokenizer',\n",
    "    vocab_size=42000,\n",
    "    character_coverage=1.0,\n",
    "    model_type='bpe'\n",
    ")"
   ]
  }
 ],
 "metadata": {
  "kernelspec": {
   "display_name": "Python 3",
   "language": "python",
   "name": "python3"
  },
  "language_info": {
   "codemirror_mode": {
    "name": "ipython",
    "version": 3
   },
   "file_extension": ".py",
   "mimetype": "text/x-python",
   "name": "python",
   "nbconvert_exporter": "python",
   "pygments_lexer": "ipython3",
   "version": "3.12.4"
  }
 },
 "nbformat": 4,
 "nbformat_minor": 5
}
