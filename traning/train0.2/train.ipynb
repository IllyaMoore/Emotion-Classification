{
 "cells": [
  {
   "cell_type": "code",
   "execution_count": 24,
   "id": "8047cb74",
   "metadata": {},
   "outputs": [
    {
     "name": "stderr",
     "output_type": "stream",
     "text": [
      "<>:8: SyntaxWarning: invalid escape sequence '\\E'\n",
      "<>:9: SyntaxWarning: invalid escape sequence '\\E'\n",
      "<>:8: SyntaxWarning: invalid escape sequence '\\E'\n",
      "<>:9: SyntaxWarning: invalid escape sequence '\\E'\n",
      "C:\\Users\\illya\\AppData\\Local\\Temp\\ipykernel_31352\\1026813836.py:8: SyntaxWarning: invalid escape sequence '\\E'\n",
      "  PATH = 'C:\\Emotion Classification\\data\\\\full_dataset\\goemotions_1.csv'\n",
      "C:\\Users\\illya\\AppData\\Local\\Temp\\ipykernel_31352\\1026813836.py:9: SyntaxWarning: invalid escape sequence '\\E'\n",
      "  TOKENIZER = 'C:\\Emotion Classification\\\\traning\\\\vocab\\\\tokenizer.model'\n"
     ]
    }
   ],
   "source": [
    "import pandas as pd\n",
    "import sentencepiece as spm\n",
    "import torch\n",
    "from torch.nn.utils.rnn import pad_sequence\n",
    "from torch import nn, optim\n",
    "from torch.utils.data import DataLoader, TensorDataset\n",
    "\n",
    "PATH = 'C:\\Emotion Classification\\data\\\\full_dataset\\goemotions_1.csv'\n",
    "TOKENIZER = 'C:\\Emotion Classification\\\\traning\\\\vocab\\\\tokenizer.model'\n",
    "\n",
    "sp = spm.SentencePieceProcessor()\n",
    "sp.load(TOKENIZER)\n",
    "\n",
    "batchsize = 100"
   ]
  },
  {
   "cell_type": "code",
   "execution_count": 25,
   "id": "bf53dcd5",
   "metadata": {},
   "outputs": [],
   "source": [
    "df = pd.read_csv(PATH, sep=',')"
   ]
  },
  {
   "cell_type": "code",
   "execution_count": 26,
   "id": "f2286219",
   "metadata": {},
   "outputs": [
    {
     "data": {
      "text/plain": [
       "Index(['text', 'id', 'author', 'subreddit', 'link_id', 'parent_id',\n",
       "       'created_utc', 'rater_id', 'example_very_unclear', 'admiration',\n",
       "       'amusement', 'anger', 'annoyance', 'approval', 'caring', 'confusion',\n",
       "       'curiosity', 'desire', 'disappointment', 'disapproval', 'disgust',\n",
       "       'embarrassment', 'excitement', 'fear', 'gratitude', 'grief', 'joy',\n",
       "       'love', 'nervousness', 'optimism', 'pride', 'realization', 'relief',\n",
       "       'remorse', 'sadness', 'surprise', 'neutral'],\n",
       "      dtype='object')"
      ]
     },
     "execution_count": 26,
     "metadata": {},
     "output_type": "execute_result"
    }
   ],
   "source": [
    "df.columns"
   ]
  },
  {
   "cell_type": "code",
   "execution_count": 27,
   "id": "6f5d0ae3",
   "metadata": {},
   "outputs": [],
   "source": [
    "df = df.drop(columns=['id', 'author', 'subreddit', 'link_id', 'parent_id',\n",
    "       'created_utc', 'rater_id'])\n",
    "df['example_very_unclear'] = df['example_very_unclear'].astype(int)"
   ]
  },
  {
   "cell_type": "code",
   "execution_count": 28,
   "id": "09806a92",
   "metadata": {},
   "outputs": [
    {
     "data": {
      "text/plain": [
       "59500"
      ]
     },
     "execution_count": 28,
     "metadata": {},
     "output_type": "execute_result"
    }
   ],
   "source": [
    "split_index = int(len(df) * 0.85)\n",
    "split_index"
   ]
  },
  {
   "cell_type": "code",
   "execution_count": 29,
   "id": "c0da85d6",
   "metadata": {},
   "outputs": [],
   "source": [
    "def pipeline_text(data):\n",
    "    data = data.copy()\n",
    "    \n",
    "    data[\"text\"] = data[\"text\"].apply(lambda x: sp.encode(x, out_type=int))\n",
    "    y = data.drop(columns=['text'])\n",
    "    \n",
    "    list_of_lists = data['text'].tolist()\n",
    "    tensor_list = [torch.tensor(seq, dtype=torch.float32) for seq in list_of_lists]\n",
    "    X = pad_sequence(tensor_list, batch_first=True, padding_value=0)\n",
    "    y = torch.tensor(y.values, dtype=torch.float32)\n",
    "    \n",
    "    X_train = X[:split_index]\n",
    "    X_test = X[split_index:]\n",
    "    \n",
    "    y_train = y[:split_index]\n",
    "    y_test = y[split_index:]\n",
    "    \n",
    "    \n",
    "    return X_train, y_train, X_test, y_test\n",
    "    \n",
    "X_train, y_train, X_test, y_test = pipeline_text(df)"
   ]
  },
  {
   "cell_type": "code",
   "execution_count": 30,
   "id": "25b5d3af",
   "metadata": {},
   "outputs": [
    {
     "data": {
      "text/plain": [
       "(torch.Size([59500, 142]),\n",
       " torch.Size([59500, 29]),\n",
       " torch.Size([10500, 142]),\n",
       " torch.Size([10500, 29]),\n",
       " torch.Tensor,\n",
       " torch.Tensor,\n",
       " torch.Tensor,\n",
       " torch.Tensor)"
      ]
     },
     "execution_count": 30,
     "metadata": {},
     "output_type": "execute_result"
    }
   ],
   "source": [
    "X_train.shape, y_train.shape, X_test.shape, y_test.shape, type(X_train), type(y_train), type(X_test), type(y_test)\n"
   ]
  },
  {
   "cell_type": "code",
   "execution_count": 31,
   "id": "4a55e41c",
   "metadata": {},
   "outputs": [],
   "source": [
    "train_dataset = TensorDataset(X_train, y_train)\n",
    "test_dataset = TensorDataset(X_test, y_test)\n",
    "\n",
    "train_dataloader = DataLoader(train_dataset, batch_size=batchsize, shuffle=True, num_workers=2)\n",
    "test_dataloader = DataLoader(test_dataset, batch_size=batchsize, shuffle=False, num_workers=2)"
   ]
  },
  {
   "cell_type": "code",
   "execution_count": 32,
   "id": "446d1be7",
   "metadata": {},
   "outputs": [],
   "source": [
    "sequence_len = X_train.shape[1]\n",
    "input_len = X_train.shape[1]\n",
    "hidden_size = 128\n",
    "num_layers = 2\n",
    "num_classes = y_train.shape[1]\n",
    "num_epochs = 5\n",
    "learning_rate = 0.01"
   ]
  },
  {
   "cell_type": "code",
   "execution_count": 33,
   "id": "151220f0",
   "metadata": {},
   "outputs": [],
   "source": [
    "class LSTM(nn.Module):\n",
    "    def __init__(self, input_len, hidden_size, num_layers, num_classes):\n",
    "        super(LSTM, self).__init__()\n",
    "        self.hidden_size = hidden_size\n",
    "        self.num_layers = num_layers\n",
    "        self.lstm = nn.LSTM(input_len, hidden_size, num_layers, batch_first=True)\n",
    "        self.output_layer = nn.Linear(hidden_size, num_classes) \n",
    "    \n",
    "    def forward(self, X):\n",
    "        hidden_size = torch.zeros(self.num_layers, X.size(0), self.hidden_size)\n",
    "        cell_state = torch.zeros(self.num_layers, X.size(0), self.hidden_size)\n",
    "        out, _ = self.lstm(X, (hidden_size, cell_state))\n",
    "        out = self.output_layer(out[:, -1, :])\n",
    "        return out\n",
    "    "
   ]
  },
  {
   "cell_type": "code",
   "execution_count": 34,
   "id": "a85b6b0a",
   "metadata": {},
   "outputs": [],
   "source": [
    "model = LSTM(input_len, hidden_size, num_layers, num_classes)"
   ]
  },
  {
   "cell_type": "code",
   "execution_count": 35,
   "id": "04db20a8",
   "metadata": {},
   "outputs": [
    {
     "data": {
      "text/plain": [
       "LSTM(\n",
       "  (lstm): LSTM(142, 128, num_layers=2, batch_first=True)\n",
       "  (output_layer): Linear(in_features=128, out_features=29, bias=True)\n",
       ")"
      ]
     },
     "execution_count": 35,
     "metadata": {},
     "output_type": "execute_result"
    }
   ],
   "source": [
    "model"
   ]
  },
  {
   "cell_type": "code",
   "execution_count": 36,
   "id": "b713af9f",
   "metadata": {},
   "outputs": [],
   "source": [
    "loss_func = nn.CrossEntropyLoss()\n",
    "optimizer = optim.SGD(model.parameters(), lr=learning_rate)"
   ]
  },
  {
   "cell_type": "code",
   "execution_count": 37,
   "id": "19251a00",
   "metadata": {},
   "outputs": [],
   "source": [
    "def train(num_epochs, model, train_dataloader, loss_func):\n",
    "    total_step = len(train_dataloader)\n",
    "    \n",
    "    for epoch in range(num_epochs):\n",
    "        for batch, (text_r, lables) in enumerate(train_dataloader):\n",
    "            text_r = text_r.reshape(-1, 1, 142)\n",
    "\n",
    "            outputs = model(text_r)\n",
    "            loss = loss_func(outputs, lables)\n",
    "            \n",
    "            optimizer.zero_grad()\n",
    "            loss.backward()\n",
    "            optimizer.step()\n",
    "            \n",
    "            if (batch + 1) % 100 == 0:\n",
    "                print(f'Epoch [{epoch + 1}/{num_epochs}], Step [{batch + 1}/{total_step}], Loss: {loss.item():.4f}, Accuracy: {torch.sum(torch.argmax(outputs, dim=1) == torch.argmax(lables, dim=1)).item() / len(lables):.4f}')"
   ]
  },
  {
   "cell_type": "code",
   "execution_count": 38,
   "id": "0babc40c",
   "metadata": {},
   "outputs": [
    {
     "name": "stdout",
     "output_type": "stream",
     "text": [
      "Epoch [1/5], Step [100/595], Loss: 4.2592, Accuracy: 0.2300\n",
      "Epoch [1/5], Step [200/595], Loss: 4.0384, Accuracy: 0.3000\n",
      "Epoch [1/5], Step [300/595], Loss: 3.7694, Accuracy: 0.3100\n",
      "Epoch [1/5], Step [400/595], Loss: 3.7778, Accuracy: 0.2300\n",
      "Epoch [1/5], Step [500/595], Loss: 3.7132, Accuracy: 0.3600\n",
      "Epoch [2/5], Step [100/595], Loss: 3.5872, Accuracy: 0.3000\n",
      "Epoch [2/5], Step [200/595], Loss: 3.8953, Accuracy: 0.2000\n",
      "Epoch [2/5], Step [300/595], Loss: 4.0493, Accuracy: 0.2300\n",
      "Epoch [2/5], Step [400/595], Loss: 3.3810, Accuracy: 0.3500\n",
      "Epoch [2/5], Step [500/595], Loss: 3.5647, Accuracy: 0.2800\n",
      "Epoch [3/5], Step [100/595], Loss: 3.7468, Accuracy: 0.1900\n",
      "Epoch [3/5], Step [200/595], Loss: 3.5907, Accuracy: 0.2100\n",
      "Epoch [3/5], Step [300/595], Loss: 3.6490, Accuracy: 0.2900\n",
      "Epoch [3/5], Step [400/595], Loss: 3.4735, Accuracy: 0.2300\n",
      "Epoch [3/5], Step [500/595], Loss: 3.5154, Accuracy: 0.2300\n",
      "Epoch [4/5], Step [100/595], Loss: 3.6151, Accuracy: 0.2200\n",
      "Epoch [4/5], Step [200/595], Loss: 3.3792, Accuracy: 0.3100\n",
      "Epoch [4/5], Step [300/595], Loss: 3.5216, Accuracy: 0.2600\n",
      "Epoch [4/5], Step [400/595], Loss: 3.6458, Accuracy: 0.2600\n",
      "Epoch [4/5], Step [500/595], Loss: 3.7955, Accuracy: 0.2400\n",
      "Epoch [5/5], Step [100/595], Loss: 3.3570, Accuracy: 0.2600\n",
      "Epoch [5/5], Step [200/595], Loss: 3.5980, Accuracy: 0.2700\n",
      "Epoch [5/5], Step [300/595], Loss: 3.4567, Accuracy: 0.3100\n",
      "Epoch [5/5], Step [400/595], Loss: 3.4032, Accuracy: 0.3000\n",
      "Epoch [5/5], Step [500/595], Loss: 3.4786, Accuracy: 0.2100\n"
     ]
    }
   ],
   "source": [
    "train(num_epochs=num_epochs, model=model, train_dataloader=train_dataloader, loss_func=loss_func)"
   ]
  }
 ],
 "metadata": {
  "kernelspec": {
   "display_name": "Python 3",
   "language": "python",
   "name": "python3"
  },
  "language_info": {
   "codemirror_mode": {
    "name": "ipython",
    "version": 3
   },
   "file_extension": ".py",
   "mimetype": "text/x-python",
   "name": "python",
   "nbconvert_exporter": "python",
   "pygments_lexer": "ipython3",
   "version": "3.12.4"
  }
 },
 "nbformat": 4,
 "nbformat_minor": 5
}
