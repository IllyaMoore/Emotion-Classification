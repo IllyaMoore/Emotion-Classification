{
 "cells": [
  {
   "cell_type": "code",
   "execution_count": 59,
   "id": "b5c45731",
   "metadata": {},
   "outputs": [
    {
     "name": "stderr",
     "output_type": "stream",
     "text": [
      "<>:5: SyntaxWarning: invalid escape sequence '\\E'\n",
      "<>:5: SyntaxWarning: invalid escape sequence '\\E'\n",
      "C:\\Users\\illya\\AppData\\Local\\Temp\\ipykernel_20436\\2040331901.py:5: SyntaxWarning: invalid escape sequence '\\E'\n",
      "  PATH = \"C:\\Emotion Classification\\data\\\\full_dataset\\goemotions_1.csv\"\n"
     ]
    },
    {
     "data": {
      "text/html": [
       "<div>\n",
       "<style scoped>\n",
       "    .dataframe tbody tr th:only-of-type {\n",
       "        vertical-align: middle;\n",
       "    }\n",
       "\n",
       "    .dataframe tbody tr th {\n",
       "        vertical-align: top;\n",
       "    }\n",
       "\n",
       "    .dataframe thead th {\n",
       "        text-align: right;\n",
       "    }\n",
       "</style>\n",
       "<table border=\"1\" class=\"dataframe\">\n",
       "  <thead>\n",
       "    <tr style=\"text-align: right;\">\n",
       "      <th></th>\n",
       "      <th>text</th>\n",
       "      <th>id</th>\n",
       "      <th>author</th>\n",
       "      <th>subreddit</th>\n",
       "      <th>link_id</th>\n",
       "      <th>parent_id</th>\n",
       "      <th>created_utc</th>\n",
       "      <th>rater_id</th>\n",
       "      <th>example_very_unclear</th>\n",
       "      <th>admiration</th>\n",
       "      <th>...</th>\n",
       "      <th>love</th>\n",
       "      <th>nervousness</th>\n",
       "      <th>optimism</th>\n",
       "      <th>pride</th>\n",
       "      <th>realization</th>\n",
       "      <th>relief</th>\n",
       "      <th>remorse</th>\n",
       "      <th>sadness</th>\n",
       "      <th>surprise</th>\n",
       "      <th>neutral</th>\n",
       "    </tr>\n",
       "  </thead>\n",
       "  <tbody>\n",
       "    <tr>\n",
       "      <th>0</th>\n",
       "      <td>That game hurt.</td>\n",
       "      <td>eew5j0j</td>\n",
       "      <td>Brdd9</td>\n",
       "      <td>nrl</td>\n",
       "      <td>t3_ajis4z</td>\n",
       "      <td>t1_eew18eq</td>\n",
       "      <td>1.548381e+09</td>\n",
       "      <td>1</td>\n",
       "      <td>False</td>\n",
       "      <td>0</td>\n",
       "      <td>...</td>\n",
       "      <td>0</td>\n",
       "      <td>0</td>\n",
       "      <td>0</td>\n",
       "      <td>0</td>\n",
       "      <td>0</td>\n",
       "      <td>0</td>\n",
       "      <td>0</td>\n",
       "      <td>1</td>\n",
       "      <td>0</td>\n",
       "      <td>0</td>\n",
       "    </tr>\n",
       "  </tbody>\n",
       "</table>\n",
       "<p>1 rows × 37 columns</p>\n",
       "</div>"
      ],
      "text/plain": [
       "              text       id author subreddit    link_id   parent_id  \\\n",
       "0  That game hurt.  eew5j0j  Brdd9       nrl  t3_ajis4z  t1_eew18eq   \n",
       "\n",
       "    created_utc  rater_id  example_very_unclear  admiration  ...  love  \\\n",
       "0  1.548381e+09         1                 False           0  ...     0   \n",
       "\n",
       "   nervousness  optimism  pride  realization  relief  remorse  sadness  \\\n",
       "0            0         0      0            0       0        0        1   \n",
       "\n",
       "   surprise  neutral  \n",
       "0         0        0  \n",
       "\n",
       "[1 rows x 37 columns]"
      ]
     },
     "execution_count": 59,
     "metadata": {},
     "output_type": "execute_result"
    }
   ],
   "source": [
    "from transformers import pipeline \n",
    "import torch\n",
    "import pandas as pd\n",
    "\n",
    "PATH = \"C:\\Emotion Classification\\data\\\\full_dataset\\goemotions_1.csv\"\n",
    "\n",
    "df = pd.read_csv(PATH)\n",
    "df.head(1)"
   ]
  },
  {
   "cell_type": "code",
   "execution_count": 60,
   "id": "779f2e30",
   "metadata": {},
   "outputs": [],
   "source": [
    "df = df.drop(columns=['id', 'author', 'subreddit', 'link_id', 'parent_id',\n",
    "       'created_utc', 'rater_id'])"
   ]
  },
  {
   "cell_type": "code",
   "execution_count": 61,
   "id": "05a1480c",
   "metadata": {},
   "outputs": [
    {
     "name": "stderr",
     "output_type": "stream",
     "text": [
      "No model was supplied, defaulted to distilbert/distilbert-base-uncased-finetuned-sst-2-english and revision 714eb0f (https://huggingface.co/distilbert/distilbert-base-uncased-finetuned-sst-2-english).\n",
      "Using a pipeline without specifying a model name and revision in production is not recommended.\n",
      "Device set to use cpu\n"
     ]
    }
   ],
   "source": [
    "generator = pipeline(\"text-classification\")"
   ]
  },
  {
   "cell_type": "code",
   "execution_count": 62,
   "id": "e5ecdee2",
   "metadata": {},
   "outputs": [
    {
     "data": {
      "text/plain": [
       "'That game hurt.'"
      ]
     },
     "execution_count": 62,
     "metadata": {},
     "output_type": "execute_result"
    }
   ],
   "source": [
    "df.text[0]"
   ]
  },
  {
   "cell_type": "code",
   "execution_count": 63,
   "id": "d82c1862",
   "metadata": {},
   "outputs": [
    {
     "data": {
      "text/plain": [
       "[{'label': 'NEGATIVE', 'score': 0.9996750354766846}]"
      ]
     },
     "execution_count": 63,
     "metadata": {},
     "output_type": "execute_result"
    }
   ],
   "source": [
    "generator(df.text[0])"
   ]
  },
  {
   "cell_type": "code",
   "execution_count": 64,
   "id": "e65ec4d7",
   "metadata": {},
   "outputs": [
    {
     "data": {
      "text/plain": [
       "'NEGATIVE'"
      ]
     },
     "execution_count": 64,
     "metadata": {},
     "output_type": "execute_result"
    }
   ],
   "source": [
    "result = generator(df.text[0])\n",
    "result[0]['label']"
   ]
  },
  {
   "cell_type": "code",
   "execution_count": 65,
   "id": "081fb0c1",
   "metadata": {},
   "outputs": [
    {
     "name": "stderr",
     "output_type": "stream",
     "text": [
      "No model was supplied, defaulted to distilbert/distilbert-base-uncased-finetuned-sst-2-english and revision 714eb0f (https://huggingface.co/distilbert/distilbert-base-uncased-finetuned-sst-2-english).\n",
      "Using a pipeline without specifying a model name and revision in production is not recommended.\n",
      "Device set to use cpu\n"
     ]
    }
   ],
   "source": [
    "classifier = pipeline(\n",
    "    \"sentiment-analysis\", \n",
    "    device=0 if torch.cuda.is_available() else -1\n",
    ")"
   ]
  },
  {
   "cell_type": "code",
   "execution_count": 66,
   "id": "de8bec78",
   "metadata": {},
   "outputs": [],
   "source": [
    "batch_size = 64\n",
    "texts = df['text'].fillna('').astype(str).tolist()\n",
    "all_results = []"
   ]
  },
  {
   "cell_type": "code",
   "execution_count": 67,
   "id": "7a2727cb",
   "metadata": {},
   "outputs": [],
   "source": [
    "from tqdm import tqdm"
   ]
  },
  {
   "cell_type": "code",
   "execution_count": 68,
   "id": "45d65df1",
   "metadata": {},
   "outputs": [
    {
     "name": "stderr",
     "output_type": "stream",
     "text": [
      "100%|██████████| 1094/1094 [35:37<00:00,  1.95s/it]"
     ]
    },
    {
     "name": "stdout",
     "output_type": "stream",
     "text": [
      "Позитивних: 27721, Негативних: 42279\n"
     ]
    },
    {
     "name": "stderr",
     "output_type": "stream",
     "text": [
      "\n"
     ]
    }
   ],
   "source": [
    "for i in tqdm(range(0, len(texts), batch_size)):\n",
    "    batch = texts[i:i+batch_size]\n",
    "    results = classifier(batch)\n",
    "    all_results.extend(results)\n",
    "\n",
    "pos_counter = sum(1 for r in all_results if r['label'] == 'POSITIVE')\n",
    "neg_counter = sum(1 for r in all_results if r['label'] == 'NEGATIVE')\n",
    "\n",
    "print(f\"Позитивних: {pos_counter}, Негативних: {neg_counter}\")"
   ]
  },
  {
   "cell_type": "code",
   "execution_count": 69,
   "id": "8f7069e5",
   "metadata": {},
   "outputs": [
    {
     "data": {
      "text/plain": [
       "Index(['text', 'example_very_unclear', 'admiration', 'amusement', 'anger',\n",
       "       'annoyance', 'approval', 'caring', 'confusion', 'curiosity', 'desire',\n",
       "       'disappointment', 'disapproval', 'disgust', 'embarrassment',\n",
       "       'excitement', 'fear', 'gratitude', 'grief', 'joy', 'love',\n",
       "       'nervousness', 'optimism', 'pride', 'realization', 'relief', 'remorse',\n",
       "       'sadness', 'surprise', 'neutral'],\n",
       "      dtype='object')"
      ]
     },
     "execution_count": 69,
     "metadata": {},
     "output_type": "execute_result"
    }
   ],
   "source": [
    "df.columns "
   ]
  },
  {
   "cell_type": "code",
   "execution_count": 70,
   "id": "5a441ce0",
   "metadata": {},
   "outputs": [
    {
     "name": "stderr",
     "output_type": "stream",
     "text": [
      "Device set to use cpu\n"
     ]
    }
   ],
   "source": [
    "sentiment_analyzer = pipeline(\"sentiment-analysis\", model=\"cardiffnlp/twitter-roberta-base-sentiment\")"
   ]
  },
  {
   "cell_type": "code",
   "execution_count": 71,
   "id": "1dbac852",
   "metadata": {},
   "outputs": [
    {
     "data": {
      "text/plain": [
       "[{'label': 'LABEL_2', 'score': 0.971968948841095}]"
      ]
     },
     "execution_count": 71,
     "metadata": {},
     "output_type": "execute_result"
    }
   ],
   "source": [
    "sentiment_analyzer(df.text[3])"
   ]
  },
  {
   "cell_type": "code",
   "execution_count": 72,
   "id": "c9cb6d9f",
   "metadata": {},
   "outputs": [],
   "source": [
    "positive_emotions = [\n",
    "    \"admiration\", \"amusement\", \"approval\", \"caring\", \"curiosity\", \n",
    "    \"desire\", \"excitement\", \"gratitude\", \"joy\", \"love\", \n",
    "    \"optimism\", \"pride\", \"relief\"\n",
    "]\n",
    "\n",
    "negative_emotions = [\n",
    "    \"anger\", \"annoyance\", \"confusion\", \"disappointment\", \"disapproval\", \n",
    "    \"disgust\", \"embarrassment\", \"fear\", \"grief\", \"nervousness\", \n",
    "    \"remorse\", \"sadness\"\n",
    "]\n",
    "\n",
    "neutral_emotions = [\n",
    "    \"example_very_unclear\", \"realization\", \"surprise\", \"neutral\"\n",
    "]"
   ]
  },
  {
   "cell_type": "code",
   "execution_count": 73,
   "id": "1a9d7e72",
   "metadata": {},
   "outputs": [],
   "source": [
    "df = df[~(df[neutral_emotions] == 1).any(axis=1)]\n",
    "df = df.reset_index(drop=True)"
   ]
  },
  {
   "cell_type": "code",
   "execution_count": 74,
   "id": "b2fd0e52",
   "metadata": {},
   "outputs": [
    {
     "data": {
      "text/plain": [
       "(45874, 30)"
      ]
     },
     "execution_count": 74,
     "metadata": {},
     "output_type": "execute_result"
    }
   ],
   "source": [
    "df.shape"
   ]
  },
  {
   "cell_type": "code",
   "execution_count": 75,
   "id": "842071fe",
   "metadata": {},
   "outputs": [
    {
     "data": {
      "text/plain": [
       "Index(['text', 'example_very_unclear', 'admiration', 'amusement', 'anger',\n",
       "       'annoyance', 'approval', 'caring', 'confusion', 'curiosity', 'desire',\n",
       "       'disappointment', 'disapproval', 'disgust', 'embarrassment',\n",
       "       'excitement', 'fear', 'gratitude', 'grief', 'joy', 'love',\n",
       "       'nervousness', 'optimism', 'pride', 'realization', 'relief', 'remorse',\n",
       "       'sadness', 'surprise', 'neutral'],\n",
       "      dtype='object')"
      ]
     },
     "execution_count": 75,
     "metadata": {},
     "output_type": "execute_result"
    }
   ],
   "source": [
    "df.columns"
   ]
  },
  {
   "cell_type": "code",
   "execution_count": 76,
   "id": "e69aa3c1",
   "metadata": {},
   "outputs": [],
   "source": [
    "df = df.drop(columns=neutral_emotions, axis=1)"
   ]
  },
  {
   "cell_type": "code",
   "execution_count": 77,
   "id": "eba2de4e",
   "metadata": {},
   "outputs": [
    {
     "data": {
      "text/plain": [
       "((45874, 26),\n",
       " Index(['text', 'admiration', 'amusement', 'anger', 'annoyance', 'approval',\n",
       "        'caring', 'confusion', 'curiosity', 'desire', 'disappointment',\n",
       "        'disapproval', 'disgust', 'embarrassment', 'excitement', 'fear',\n",
       "        'gratitude', 'grief', 'joy', 'love', 'nervousness', 'optimism', 'pride',\n",
       "        'relief', 'remorse', 'sadness'],\n",
       "       dtype='object'))"
      ]
     },
     "execution_count": 77,
     "metadata": {},
     "output_type": "execute_result"
    }
   ],
   "source": [
    "df.shape, df.columns"
   ]
  },
  {
   "cell_type": "code",
   "execution_count": null,
   "id": "954b5ba2",
   "metadata": {},
   "outputs": [
    {
     "data": {
      "text/plain": [
       "(43332, 13)"
      ]
     },
     "execution_count": 78,
     "metadata": {},
     "output_type": "execute_result"
    }
   ],
   "source": [
    "df_positive = df[(df[positive_emotions] == 1).any(axis=1) & ~(df[negative_emotions] == 1).any(axis=1)]\n",
    "df_positive = df_positive.drop(columns=negative_emotions, axis=1)\n",
    "df_negative = df[(df[negative_emotions] == 1).any(axis=1) & ~(df[positive_emotions] == 1).any(axis=1)]\n",
    "df_negative = df_negative.drop(columns=positive_emotions, axis=1)"
   ]
  },
  {
   "cell_type": "code",
   "execution_count": 82,
   "id": "1876c5c1",
   "metadata": {},
   "outputs": [
    {
     "data": {
      "text/plain": [
       "(43332, 27)"
      ]
     },
     "execution_count": 82,
     "metadata": {},
     "output_type": "execute_result"
    }
   ],
   "source": [
    "df_positive.shape[0] + df_negative.shape[0], df_negative.shape[1] + df_positive.shape[1]"
   ]
  },
  {
   "cell_type": "code",
   "execution_count": 79,
   "id": "a6b6f654",
   "metadata": {},
   "outputs": [
    {
     "name": "stderr",
     "output_type": "stream",
     "text": [
      "<>:1: SyntaxWarning: invalid escape sequence '\\E'\n",
      "<>:2: SyntaxWarning: invalid escape sequence '\\E'\n",
      "<>:1: SyntaxWarning: invalid escape sequence '\\E'\n",
      "<>:2: SyntaxWarning: invalid escape sequence '\\E'\n",
      "C:\\Users\\illya\\AppData\\Local\\Temp\\ipykernel_20436\\2756853363.py:1: SyntaxWarning: invalid escape sequence '\\E'\n",
      "  df_positive.to_csv(\"C:\\Emotion Classification\\\\treeModelsData\\positive_emotions.csv\", sep=',' ,index=False)\n",
      "C:\\Users\\illya\\AppData\\Local\\Temp\\ipykernel_20436\\2756853363.py:2: SyntaxWarning: invalid escape sequence '\\E'\n",
      "  df_negative.to_csv(\"C:\\Emotion Classification\\\\treeModelsData\\\\negative_emotions.csv\", sep=',' ,index=False)\n"
     ]
    }
   ],
   "source": [
    "df_positive.to_csv(\"C:\\Emotion Classification\\\\treeModelsData\\positive_emotions.csv\", sep=',' ,index=False)\n",
    "df_negative.to_csv(\"C:\\Emotion Classification\\\\treeModelsData\\\\negative_emotions.csv\", sep=',' ,index=False)"
   ]
  },
  {
   "cell_type": "code",
   "execution_count": 80,
   "id": "7d3bfbe9",
   "metadata": {},
   "outputs": [
    {
     "data": {
      "text/plain": [
       "Index(['text', 'admiration', 'amusement', 'approval', 'caring', 'curiosity',\n",
       "       'desire', 'excitement', 'gratitude', 'joy', 'love', 'optimism', 'pride',\n",
       "       'relief'],\n",
       "      dtype='object')"
      ]
     },
     "execution_count": 80,
     "metadata": {},
     "output_type": "execute_result"
    }
   ],
   "source": [
    "df_positive.columns"
   ]
  },
  {
   "cell_type": "code",
   "execution_count": 81,
   "id": "c3d1f626",
   "metadata": {},
   "outputs": [
    {
     "data": {
      "text/plain": [
       "Index(['text', 'anger', 'annoyance', 'confusion', 'disappointment',\n",
       "       'disapproval', 'disgust', 'embarrassment', 'fear', 'grief',\n",
       "       'nervousness', 'remorse', 'sadness'],\n",
       "      dtype='object')"
      ]
     },
     "execution_count": 81,
     "metadata": {},
     "output_type": "execute_result"
    }
   ],
   "source": [
    "df_negative.columns"
   ]
  }
 ],
 "metadata": {
  "kernelspec": {
   "display_name": ".venv (3.13.0)",
   "language": "python",
   "name": "python3"
  },
  "language_info": {
   "codemirror_mode": {
    "name": "ipython",
    "version": 3
   },
   "file_extension": ".py",
   "mimetype": "text/x-python",
   "name": "python",
   "nbconvert_exporter": "python",
   "pygments_lexer": "ipython3",
   "version": "3.13.0"
  }
 },
 "nbformat": 4,
 "nbformat_minor": 5
}
