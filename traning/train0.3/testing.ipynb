{
 "cells": [
  {
   "cell_type": "code",
   "execution_count": 60,
   "id": "e1077547",
   "metadata": {},
   "outputs": [
    {
     "name": "stderr",
     "output_type": "stream",
     "text": [
      "<>:10: SyntaxWarning: invalid escape sequence '\\E'\n",
      "<>:10: SyntaxWarning: invalid escape sequence '\\E'\n",
      "C:\\Users\\illya\\AppData\\Local\\Temp\\ipykernel_20784\\422757640.py:10: SyntaxWarning: invalid escape sequence '\\E'\n",
      "  TOKENIZER = \"C:\\Emotion Classification\\\\traning\\\\vocab\\\\tokenizer0.2.json\"\n",
      "c:\\Emotion Classification\\.venv\\Lib\\site-packages\\tqdm\\auto.py:21: TqdmWarning: IProgress not found. Please update jupyter and ipywidgets. See https://ipywidgets.readthedocs.io/en/stable/user_install.html\n",
      "  from .autonotebook import tqdm as notebook_tqdm\n"
     ]
    }
   ],
   "source": [
    "import torch\n",
    "import pandas as pd\n",
    "from torch.nn.utils.rnn import pad_sequence\n",
    "from tokenizers import Tokenizer\n",
    "from torch import nn\n",
    "import torch.nn.functional as F\n",
    "import sys\n",
    "from transformers import pipeline \n",
    "\n",
    "TOKENIZER = \"C:\\Emotion Classification\\\\traning\\\\vocab\\\\tokenizer0.2.json\"\n",
    "\n",
    "tokenizer = Tokenizer.from_file(TOKENIZER)"
   ]
  },
  {
   "cell_type": "code",
   "execution_count": 52,
   "id": "b6276080",
   "metadata": {},
   "outputs": [],
   "source": [
    "class LSTMModel(nn.Module):\n",
    "    def __init__(self, vocab_size, embedding_dim, hidden_size, num_layers, num_classes, dropout=0.3):\n",
    "        super(LSTMModel, self).__init__()\n",
    "        self.embedding = nn.Embedding(vocab_size, embedding_dim, padding_idx=0)\n",
    "        \n",
    "        self.lstm = nn.LSTM(\n",
    "            embedding_dim, \n",
    "            hidden_size, \n",
    "            num_layers=num_layers,\n",
    "            batch_first=True, \n",
    "            dropout=dropout if num_layers > 1 else 0,\n",
    "            bidirectional=False\n",
    "        )\n",
    "        self.dropout1 = nn.Dropout(dropout)\n",
    "        \n",
    "        self.fc1 = nn.Linear(hidden_size, hidden_size // 2)\n",
    "        self.bn1 = nn.BatchNorm1d(hidden_size // 2)\n",
    "        self.dropout2 = nn.Dropout(dropout)\n",
    "        \n",
    "        self.fc2 = nn.Linear(hidden_size // 2, hidden_size // 4)\n",
    "        self.bn2 = nn.BatchNorm1d(hidden_size // 4)\n",
    "        self.dropout3 = nn.Dropout(dropout * 0.5)\n",
    "        \n",
    "\n",
    "        self.output_layer = nn.Linear(hidden_size // 4, num_classes)\n",
    "        \n",
    "    def forward(self, x):\n",
    "\n",
    "        embedded = self.embedding(x)\n",
    "        \n",
    "\n",
    "        lstm_out, _ = self.lstm(embedded)\n",
    "        \n",
    "\n",
    "        out = lstm_out.mean(dim=1)\n",
    "        \n",
    "\n",
    "        out = self.dropout1(out)\n",
    "\n",
    "        out = self.fc1(out)\n",
    "        out = self.bn1(out)\n",
    "        out = F.relu(out)\n",
    "        out = self.dropout2(out)\n",
    "        \n",
    "        out = self.fc2(out)\n",
    "        out = self.bn2(out)\n",
    "        out = F.relu(out)\n",
    "        out = self.dropout3(out)\n",
    "\n",
    "        out = self.output_layer(out)\n",
    "        \n",
    "        return out"
   ]
  },
  {
   "cell_type": "code",
   "execution_count": 53,
   "id": "58199fa3",
   "metadata": {},
   "outputs": [],
   "source": [
    "sequence_len = 62\n",
    "input_len = 62\n",
    "hidden_size = 256\n",
    "num_layers = 1\n",
    "num_classes = 13\n",
    "num_epochs = 10\n",
    "learning_rate = 0.01"
   ]
  },
  {
   "cell_type": "code",
   "execution_count": 54,
   "id": "3388e8a9",
   "metadata": {},
   "outputs": [],
   "source": [
    "vocab_size = tokenizer.get_vocab_size()"
   ]
  },
  {
   "cell_type": "code",
   "execution_count": 108,
   "id": "f859b1b5",
   "metadata": {},
   "outputs": [
    {
     "name": "stderr",
     "output_type": "stream",
     "text": [
      "No model was supplied, defaulted to distilbert/distilbert-base-uncased-finetuned-sst-2-english and revision 714eb0f (https://huggingface.co/distilbert/distilbert-base-uncased-finetuned-sst-2-english).\n",
      "Using a pipeline without specifying a model name and revision in production is not recommended.\n",
      "Device set to use cpu\n"
     ]
    }
   ],
   "source": [
    "generator = pipeline(\"text-classification\")"
   ]
  },
  {
   "cell_type": "code",
   "execution_count": 226,
   "id": "c4e3fd5a",
   "metadata": {},
   "outputs": [
    {
     "data": {
      "text/html": [
       "<div>\n",
       "<style scoped>\n",
       "    .dataframe tbody tr th:only-of-type {\n",
       "        vertical-align: middle;\n",
       "    }\n",
       "\n",
       "    .dataframe tbody tr th {\n",
       "        vertical-align: top;\n",
       "    }\n",
       "\n",
       "    .dataframe thead th {\n",
       "        text-align: right;\n",
       "    }\n",
       "</style>\n",
       "<table border=\"1\" class=\"dataframe\">\n",
       "  <thead>\n",
       "    <tr style=\"text-align: right;\">\n",
       "      <th></th>\n",
       "      <th>text</th>\n",
       "    </tr>\n",
       "  </thead>\n",
       "  <tbody>\n",
       "    <tr>\n",
       "      <th>0</th>\n",
       "      <td>hope to see you again</td>\n",
       "    </tr>\n",
       "  </tbody>\n",
       "</table>\n",
       "</div>"
      ],
      "text/plain": [
       "                    text\n",
       "0  hope to see you again"
      ]
     },
     "execution_count": 226,
     "metadata": {},
     "output_type": "execute_result"
    }
   ],
   "source": [
    "text_to_text = \"hope to see you again\"\n",
    "text = {'text': text_to_text}\n",
    "text_to_text = pd.DataFrame(data=text, index=[0])\n",
    "text_to_text"
   ]
  },
  {
   "cell_type": "code",
   "execution_count": 227,
   "id": "9956aef8",
   "metadata": {},
   "outputs": [
    {
     "name": "stdout",
     "output_type": "stream",
     "text": [
      "POS\n"
     ]
    },
    {
     "name": "stderr",
     "output_type": "stream",
     "text": [
      "<>:6: SyntaxWarning: invalid escape sequence '\\E'\n",
      "<>:6: SyntaxWarning: invalid escape sequence '\\E'\n",
      "C:\\Users\\illya\\AppData\\Local\\Temp\\ipykernel_20784\\1025466880.py:6: SyntaxWarning: invalid escape sequence '\\E'\n",
      "  model = torch.load('C:\\Emotion Classification\\\\traning\\\\train0.3\\models\\Pmodel.pth', weights_only=False)\n"
     ]
    }
   ],
   "source": [
    "first_branch = generator(text_to_text.text[0])\n",
    "first_branch = list(first_branch[0].values())[0]\n",
    "\n",
    "\n",
    "if first_branch == 'POSITIVE':\n",
    "    model = torch.load('C:\\Emotion Classification\\\\traning\\\\train0.3\\models\\Pmodel.pth', weights_only=False)\n",
    "    em = ['text', 'admiration', 'amusement', 'approval', 'caring', 'curiosity',\n",
    "       'desire', 'excitement', 'gratitude', 'joy', 'love', 'optimism', 'pride',\n",
    "       'relief']\n",
    "    print(\"POS\")\n",
    "else:\n",
    "    model = torch.load(r'C:\\Emotion Classification\\\\traning\\\\train0.3\\models\\Nmodel.pth', weights_only=False)\n",
    "    em = ['anger', 'annoyance', 'confusion', 'disappointment',\n",
    "       'disapproval', 'disgust', 'embarrassment', 'fear', 'grief',\n",
    "       'nervousness', 'remorse', 'sadness']\n",
    "    print(\"NEG\")"
   ]
  },
  {
   "cell_type": "code",
   "execution_count": 228,
   "id": "67ad7784",
   "metadata": {},
   "outputs": [],
   "source": [
    "model = LSTMModel(vocab_size, hidden_size, hidden_size, num_layers, num_classes)"
   ]
  },
  {
   "cell_type": "code",
   "execution_count": 229,
   "id": "314fe9ad",
   "metadata": {},
   "outputs": [],
   "source": [
    "def prepare_text_for_inference(df=text_to_text, tokenizer=tokenizer):\n",
    "\n",
    "    df = df.copy()\n",
    "    tokenized = df['text'].apply(lambda x: tokenizer.encode(x).ids)\n",
    "    tensor_list = [torch.tensor(seq, dtype=torch.long) for seq in tokenized.tolist()]\n",
    "    X = pad_sequence(tensor_list, batch_first=True, padding_value=0)\n",
    "    \n",
    "    return X\n",
    "\n",
    "X_new = prepare_text_for_inference()"
   ]
  },
  {
   "cell_type": "code",
   "execution_count": 230,
   "id": "fe012ee6",
   "metadata": {},
   "outputs": [
    {
     "name": "stdout",
     "output_type": "stream",
     "text": [
      "working\n",
      "working\n",
      "working\n",
      "working\n",
      "working\n",
      "working\n",
      "working\n",
      "working\n"
     ]
    },
    {
     "data": {
      "text/plain": [
       "'admiration'"
      ]
     },
     "execution_count": 230,
     "metadata": {},
     "output_type": "execute_result"
    }
   ],
   "source": [
    "model.eval()\n",
    "with torch.no_grad():\n",
    "    outputs = model(X_new)\n",
    "    probs = torch.sigmoid(outputs)\n",
    "    preds = (probs > 0.5).int()\n",
    "    \n",
    "preds_list = preds.tolist()\n",
    "\n",
    "for i in range(len(preds_list[0])):\n",
    "    if preds_list[0][i] == 1:\n",
    "        result = preds_list[0].index(preds_list[0][i]) + 1\n",
    "        print(\"working\")\n",
    "\n",
    "em[result]"
   ]
  }
 ],
 "metadata": {
  "kernelspec": {
   "display_name": ".venv (3.13.0)",
   "language": "python",
   "name": "python3"
  },
  "language_info": {
   "codemirror_mode": {
    "name": "ipython",
    "version": 3
   },
   "file_extension": ".py",
   "mimetype": "text/x-python",
   "name": "python",
   "nbconvert_exporter": "python",
   "pygments_lexer": "ipython3",
   "version": "3.13.0"
  }
 },
 "nbformat": 4,
 "nbformat_minor": 5
}
