{
 "cells": [
  {
   "cell_type": "code",
   "execution_count": 2,
   "id": "27a596b9",
   "metadata": {},
   "outputs": [],
   "source": [
    "import sentencepiece as spm"
   ]
  },
  {
   "cell_type": "code",
   "execution_count": 3,
   "id": "2c9be090",
   "metadata": {},
   "outputs": [],
   "source": [
    "from tokenizers import Tokenizer\n",
    "from tokenizers.models import BPE\n",
    "tokenizer = Tokenizer(BPE(unk_token=\"[UNK]\"))"
   ]
  },
  {
   "cell_type": "code",
   "execution_count": 7,
   "id": "23bb1377",
   "metadata": {},
   "outputs": [],
   "source": [
    "from tokenizers.trainers import BpeTrainer\n",
    "trainer = BpeTrainer(special_tokens=[\"[UNK]\", \"[CLS]\", \"[SEP]\", \"[PAD]\", \"[MASK]\"])"
   ]
  },
  {
   "cell_type": "code",
   "execution_count": 8,
   "id": "71b35837",
   "metadata": {},
   "outputs": [],
   "source": [
    "from tokenizers.pre_tokenizers import Whitespace\n",
    "tokenizer.pre_tokenizer = Whitespace()"
   ]
  },
  {
   "cell_type": "code",
   "execution_count": 10,
   "id": "20ffa304",
   "metadata": {},
   "outputs": [
    {
     "name": "stderr",
     "output_type": "stream",
     "text": [
      "<>:1: SyntaxWarning: invalid escape sequence '\\E'\n",
      "<>:1: SyntaxWarning: invalid escape sequence '\\E'\n",
      "C:\\Users\\illya\\AppData\\Local\\Temp\\ipykernel_9288\\3666440681.py:1: SyntaxWarning: invalid escape sequence '\\E'\n",
      "  PATH = \"C:\\Emotion Classification\\data\\\\text.txt\"\n"
     ]
    }
   ],
   "source": [
    "PATH = \"C:\\Emotion Classification\\data\\\\text.txt\""
   ]
  },
  {
   "cell_type": "code",
   "execution_count": 14,
   "id": "f44ceb43",
   "metadata": {},
   "outputs": [],
   "source": [
    "files = [PATH]\n",
    "tokenizer.train(files, trainer)"
   ]
  },
  {
   "cell_type": "code",
   "execution_count": null,
   "id": "b014d6f2",
   "metadata": {},
   "outputs": [],
   "source": [
    "tokenizer.save(\"data/tokenizer-wiki.json\")"
   ]
  },
  {
   "cell_type": "code",
   "execution_count": 15,
   "id": "3994f0b9",
   "metadata": {},
   "outputs": [
    {
     "name": "stderr",
     "output_type": "stream",
     "text": [
      "<>:1: SyntaxWarning: invalid escape sequence '\\E'\n",
      "<>:1: SyntaxWarning: invalid escape sequence '\\E'\n",
      "C:\\Users\\illya\\AppData\\Local\\Temp\\ipykernel_9288\\1969106648.py:1: SyntaxWarning: invalid escape sequence '\\E'\n",
      "  tokenizer.save(\"C:\\Emotion Classification\\\\traning\\\\vocab\\\\tokenizer.json\")\n"
     ]
    }
   ],
   "source": [
    "tokenizer.save(\"C:\\Emotion Classification\\\\traning\\\\vocab\\\\tokenizer.json\")"
   ]
  },
  {
   "cell_type": "code",
   "execution_count": 4,
   "id": "7e78d969",
   "metadata": {},
   "outputs": [
    {
     "name": "stderr",
     "output_type": "stream",
     "text": [
      "<>:1: SyntaxWarning: invalid escape sequence '\\E'\n",
      "<>:1: SyntaxWarning: invalid escape sequence '\\E'\n",
      "C:\\Users\\illya\\AppData\\Local\\Temp\\ipykernel_24244\\4224174506.py:1: SyntaxWarning: invalid escape sequence '\\E'\n",
      "  tokenizer = Tokenizer.from_file(\"C:\\Emotion Classification\\\\traning\\\\vocab\\\\tokenizer0.2.json\")\n"
     ]
    }
   ],
   "source": [
    "tokenizer = Tokenizer.from_file(\"C:\\Emotion Classification\\\\traning\\\\vocab\\\\tokenizer0.2.json\")"
   ]
  },
  {
   "cell_type": "code",
   "execution_count": 10,
   "id": "8f69bcec",
   "metadata": {},
   "outputs": [],
   "source": [
    "output = tokenizer.encode(\"hello, y'all! how are you 😁 ?\")"
   ]
  },
  {
   "cell_type": "code",
   "execution_count": 11,
   "id": "dd4cb63e",
   "metadata": {},
   "outputs": [
    {
     "name": "stdout",
     "output_type": "stream",
     "text": [
      "['hello', ',', 'y', \"'\", 'all', '!', 'how', 'are', 'you', '😁', '?']\n"
     ]
    }
   ],
   "source": [
    "print(output.tokens)"
   ]
  },
  {
   "cell_type": "code",
   "execution_count": null,
   "id": "de211e79",
   "metadata": {},
   "outputs": [],
   "source": []
  }
 ],
 "metadata": {
  "kernelspec": {
   "display_name": "Python 3",
   "language": "python",
   "name": "python3"
  },
  "language_info": {
   "codemirror_mode": {
    "name": "ipython",
    "version": 3
   },
   "file_extension": ".py",
   "mimetype": "text/x-python",
   "name": "python",
   "nbconvert_exporter": "python",
   "pygments_lexer": "ipython3",
   "version": "3.12.4"
  }
 },
 "nbformat": 4,
 "nbformat_minor": 5
}
